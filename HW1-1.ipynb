{
 "cells": [
  {
   "cell_type": "markdown",
   "metadata": {
    "collapsed": true
   },
   "source": [
    "## Challenge 1.1: Largest Palindrome\n"
   ]
  },
  {
   "cell_type": "markdown",
   "metadata": {},
   "source": [
    "A palindromic number reads the same both ways. For example, 1234321 is a palindrome. The largest palindrome made from the product of two two-digit numbers is 9009 = 91 × 99. Find the largest palindrome made from the product of two three-digit numbers."
   ]
  },
  {
   "cell_type": "code",
   "execution_count": 1,
   "metadata": {},
   "outputs": [],
   "source": [
    "def Palindrome(z): #define function that returns True if the number is the same when reversed\n",
    "    if z==z[::-1]:\n",
    "        return True\n",
    "    return False"
   ]
  },
  {
   "cell_type": "code",
   "execution_count": 2,
   "metadata": {},
   "outputs": [
    {
     "name": "stdout",
     "output_type": "stream",
     "text": [
      "906609\n"
     ]
    }
   ],
   "source": [
    "list1=[] #create an empty list to store all Polyndrome values\n",
    "for i in range(900,999):    #looping twice over all three-numbered numbers \n",
    "    for x in range(900,999):\n",
    "        z=i*x           #calculate the product\n",
    "        if Palindrome(str(z)): #if the number is a Polindrome append the numbers to the list\n",
    "            list1.append(z)     \n",
    "            \n",
    "print (max(list1))           #find the maximum number"
   ]
  },
  {
   "cell_type": "markdown",
   "metadata": {},
   "source": [
    "##### Alternative solution"
   ]
  },
  {
   "cell_type": "code",
   "execution_count": 3,
   "metadata": {},
   "outputs": [
    {
     "name": "stdout",
     "output_type": "stream",
     "text": [
      "906609\n",
      "913 993.0\n"
     ]
    }
   ],
   "source": [
    "maxpalindrome=0\n",
    "maxfact=0\n",
    "for i in range(100,999):      #two loops over two possible three-digit numbers\n",
    "    for x in range(100,999):\n",
    "        z=i*x\n",
    "        if (Palindrome(str(z))): #if the number is a palindrome then\n",
    "            if(z>maxpalindrome): #find the maximum within the given range of two loops\n",
    "                maxpalindrome=z\n",
    "                maxfact=i\n",
    "\n",
    "print (maxpalindrome)\n",
    "print (maxfact, maxpalindrome/maxfact) #also finds the corresponding two three-digit numbers"
   ]
  },
  {
   "cell_type": "markdown",
   "metadata": {},
   "source": [
    "## Challenge 1.2: Summation of Primes"
   ]
  },
  {
   "cell_type": "markdown",
   "metadata": {},
   "source": [
    "The sum of the primes below 10 is 2 + 3 + 5 + 7 = 17. Find the sum of all the primes below 2,000."
   ]
  },
  {
   "cell_type": "code",
   "execution_count": 4,
   "metadata": {
    "collapsed": true
   },
   "outputs": [],
   "source": [
    "def is_prime(n): #define the new function \n",
    "    for i in range(2, n): #prime number is greater than 1, hence start at 2\n",
    "        if n%i == 0:     #if n is divisible by any number in the range, then it is not prime\n",
    "            return False\n",
    "    return True"
   ]
  },
  {
   "cell_type": "code",
   "execution_count": 5,
   "metadata": {},
   "outputs": [
    {
     "name": "stdout",
     "output_type": "stream",
     "text": [
      "277050\n"
     ]
    }
   ],
   "source": [
    "sum1=0\n",
    "for x in range(2,2000): #if the number in the range is prime then sum it up\n",
    "    if is_prime(x):\n",
    "        sum1+=x\n",
    "print (sum1) "
   ]
  },
  {
   "cell_type": "markdown",
   "metadata": {},
   "source": [
    "## Challenge 1.3: Multiples of 3 and 5"
   ]
  },
  {
   "cell_type": "markdown",
   "metadata": {},
   "source": [
    "If we list all of the natural numbers below 10 that are multiples of 3 or 5, we get 3, 5, 6, and 9. The sum of these multiples is 23. Find the sum of all the multiples of 3 and 5 below 1,000."
   ]
  },
  {
   "cell_type": "code",
   "execution_count": 6,
   "metadata": {},
   "outputs": [
    {
     "name": "stdout",
     "output_type": "stream",
     "text": [
      "233168\n"
     ]
    }
   ],
   "source": [
    "sum1=0\n",
    "for i in range(3,1000): #if n is divisible by 3 or 5, then sum up\n",
    "    if (i%3 == 0 or i%5==0):\n",
    "        sum1+=i\n",
    "print(sum1)   "
   ]
  },
  {
   "cell_type": "markdown",
   "metadata": {},
   "source": [
    "## Challenge 2: FizzBuzz"
   ]
  },
  {
   "cell_type": "markdown",
   "metadata": {},
   "source": [
    "Write a program that prints all of the numbers from 1 to 100. For multiples of 3, instead of the number, print \"Fizz;\" for multiples of 5, print \"Buzz.\" For numbers that are multiples of both 3 and 5, print \"FizzBuzz.\" Bonus: If that's too easy, create three unique solutions. Sometimes you'll encounter unexpected constraints, so make sure you're able to think creatively!"
   ]
  },
  {
   "cell_type": "code",
   "execution_count": 7,
   "metadata": {},
   "outputs": [
    {
     "name": "stdout",
     "output_type": "stream",
     "text": [
      "1\n",
      "2\n",
      "Fizz\n",
      "4\n",
      "Buzz\n",
      "Fizz\n",
      "7\n",
      "8\n",
      "Fizz\n",
      "Buzz\n",
      "11\n",
      "Fizz\n",
      "13\n",
      "14\n",
      "FizzBuzz\n",
      "16\n",
      "17\n",
      "Fizz\n",
      "19\n",
      "Buzz\n",
      "Fizz\n",
      "22\n",
      "23\n",
      "Fizz\n",
      "Buzz\n",
      "26\n",
      "Fizz\n",
      "28\n",
      "29\n",
      "FizzBuzz\n",
      "31\n",
      "32\n",
      "Fizz\n",
      "34\n",
      "Buzz\n",
      "Fizz\n",
      "37\n",
      "38\n",
      "Fizz\n",
      "Buzz\n",
      "41\n",
      "Fizz\n",
      "43\n",
      "44\n",
      "FizzBuzz\n",
      "46\n",
      "47\n",
      "Fizz\n",
      "49\n",
      "Buzz\n",
      "Fizz\n",
      "52\n",
      "53\n",
      "Fizz\n",
      "Buzz\n",
      "56\n",
      "Fizz\n",
      "58\n",
      "59\n",
      "FizzBuzz\n",
      "61\n",
      "62\n",
      "Fizz\n",
      "64\n",
      "Buzz\n",
      "Fizz\n",
      "67\n",
      "68\n",
      "Fizz\n",
      "Buzz\n",
      "71\n",
      "Fizz\n",
      "73\n",
      "74\n",
      "FizzBuzz\n",
      "76\n",
      "77\n",
      "Fizz\n",
      "79\n",
      "Buzz\n",
      "Fizz\n",
      "82\n",
      "83\n",
      "Fizz\n",
      "Buzz\n",
      "86\n",
      "Fizz\n",
      "88\n",
      "89\n",
      "FizzBuzz\n",
      "91\n",
      "92\n",
      "Fizz\n",
      "94\n",
      "Buzz\n",
      "Fizz\n",
      "97\n",
      "98\n",
      "Fizz\n",
      "Buzz\n"
     ]
    }
   ],
   "source": [
    "for i in range(1,101):\n",
    "    if (i%5==0 and i%3==0): #if three conditions satisfy print the corresponding word, otherwise print a number\n",
    "        print( \"FizzBuzz\")\n",
    "    elif i%3==0:\n",
    "        print(\"Fizz\")\n",
    "    elif i%5==0:\n",
    "        print( 'Buzz') \n",
    "    else:\n",
    "        print(i)"
   ]
  },
  {
   "cell_type": "markdown",
   "metadata": {},
   "source": [
    "## Challenge 3: String Compressor\n"
   ]
  },
  {
   "cell_type": "markdown",
   "metadata": {},
   "source": [
    "Implement a method to perform basic string compression using the counts of repeated characters. (This is called run-length encoding.) For example, the string \"aabcccccaaa\" would become a2b1c5a3. If the “compressed” string would not become smaller than the original string, your method should return the original string. You can assume the string has only uppercase and lowercase letters (a–z). Specify whether your solution is case sensitive or case insensitive and what you would need to change to make it the other."
   ]
  },
  {
   "cell_type": "code",
   "execution_count": 19,
   "metadata": {},
   "outputs": [
    {
     "name": "stdout",
     "output_type": "stream",
     "text": [
      "Insert a string:  AaBCccCAaa\n"
     ]
    }
   ],
   "source": [
    "string=input('Insert a string:  ')\n",
    "#print(string)\n",
    "#string2='AaBCccCAaa'\n"
   ]
  },
  {
   "cell_type": "code",
   "execution_count": 20,
   "metadata": {},
   "outputs": [
    {
     "name": "stdout",
     "output_type": "stream",
     "text": [
      "AaBCccCAaa\n"
     ]
    }
   ],
   "source": [
    "solution=\"\"\n",
    "\n",
    "xx=string[0] #start with the first letter\n",
    "counter=0 #set counter at 0\n",
    "for i in range(0,len(string)): \n",
    "    if (string[i]==xx):  #if the next letter is equals the first one, then add a counter\n",
    "        counter+=1                                   #if the letter is either and uppercase or a lowercase\n",
    "    else:                 \n",
    "        solution=solution+xx+str(counter)  #if not write out the existing string and set xx to this next letter\n",
    "        xx=string[i]  \n",
    "        counter=1  \n",
    "solution=solution+xx+str(counter) #write out the final solution in the end\n",
    "\n",
    "if(len(solution)>len(string)): #if the compressed string is not shorter than the original one, print out the original string\n",
    "    solution=string\n",
    "        \n",
    "print(solution)  #the soultion is case sensitive"
   ]
  },
  {
   "cell_type": "code",
   "execution_count": 21,
   "metadata": {},
   "outputs": [
    {
     "name": "stdout",
     "output_type": "stream",
     "text": [
      "a2B1C4A3\n"
     ]
    }
   ],
   "source": [
    "solution2=''\n",
    "counter2=0\n",
    "#making the solution case insensitive\n",
    "for i in range(0,len(string)): \n",
    "    if (string[i]==xx.upper() or string[i]==xx.lower()):  #if the next letter is equals the first one, then add a counter\n",
    "        counter2+=1                                   # add the counter if it is uppercase or a lowercase\n",
    "    else:                 \n",
    "        solution2=solution2+xx+str(counter2)  #if not write out the existing string and set xx to this next letter\n",
    "        xx=string[i]  \n",
    "        counter2=1  \n",
    "solution2=solution2+xx+str(counter2) #write out the final solution in the end\n",
    "\n",
    "if(len(solution2)>len(string)): #if the compressed string is not shorter than the original one, print out the original string\n",
    "    solution2=string\n",
    "        \n",
    "print(solution2)  #the soultion is case insensitive"
   ]
  },
  {
   "cell_type": "code",
   "execution_count": null,
   "metadata": {
    "collapsed": true
   },
   "outputs": [],
   "source": []
  }
 ],
 "metadata": {
  "kernelspec": {
   "display_name": "Python 3",
   "language": "python",
   "name": "python3"
  },
  "language_info": {
   "codemirror_mode": {
    "name": "ipython",
    "version": 3
   },
   "file_extension": ".py",
   "mimetype": "text/x-python",
   "name": "python",
   "nbconvert_exporter": "python",
   "pygments_lexer": "ipython3",
   "version": "3.6.3"
  }
 },
 "nbformat": 4,
 "nbformat_minor": 2
}
